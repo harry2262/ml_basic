{
 "cells": [
  {
   "cell_type": "code",
   "execution_count": 2,
   "id": "4efb74da",
   "metadata": {},
   "outputs": [],
   "source": [
    "import numpy as np\n",
    "import pandas as pd"
   ]
  },
  {
   "cell_type": "code",
   "execution_count": 3,
   "id": "29f51467",
   "metadata": {},
   "outputs": [],
   "source": [
    "d = pd.read_csv(\"data.csv\")"
   ]
  },
  {
   "cell_type": "code",
   "execution_count": 4,
   "id": "ea18c745",
   "metadata": {},
   "outputs": [
    {
     "data": {
      "text/html": [
       "<div>\n",
       "<style scoped>\n",
       "    .dataframe tbody tr th:only-of-type {\n",
       "        vertical-align: middle;\n",
       "    }\n",
       "\n",
       "    .dataframe tbody tr th {\n",
       "        vertical-align: top;\n",
       "    }\n",
       "\n",
       "    .dataframe thead th {\n",
       "        text-align: right;\n",
       "    }\n",
       "</style>\n",
       "<table border=\"1\" class=\"dataframe\">\n",
       "  <thead>\n",
       "    <tr style=\"text-align: right;\">\n",
       "      <th></th>\n",
       "      <th>Sky</th>\n",
       "      <th>Temp</th>\n",
       "      <th>Humidity</th>\n",
       "      <th>Wind</th>\n",
       "      <th>Water</th>\n",
       "      <th>Forecast</th>\n",
       "      <th>EnjoySport</th>\n",
       "    </tr>\n",
       "  </thead>\n",
       "  <tbody>\n",
       "    <tr>\n",
       "      <th>0</th>\n",
       "      <td>Sunny</td>\n",
       "      <td>Warm</td>\n",
       "      <td>Normal</td>\n",
       "      <td>Strong</td>\n",
       "      <td>Warm</td>\n",
       "      <td>Same</td>\n",
       "      <td>Yes</td>\n",
       "    </tr>\n",
       "    <tr>\n",
       "      <th>1</th>\n",
       "      <td>Sunny</td>\n",
       "      <td>Warm</td>\n",
       "      <td>High</td>\n",
       "      <td>Strong</td>\n",
       "      <td>Warm</td>\n",
       "      <td>Same</td>\n",
       "      <td>Yes</td>\n",
       "    </tr>\n",
       "    <tr>\n",
       "      <th>2</th>\n",
       "      <td>Rainy</td>\n",
       "      <td>Cold</td>\n",
       "      <td>High</td>\n",
       "      <td>Strong</td>\n",
       "      <td>Warm</td>\n",
       "      <td>Change</td>\n",
       "      <td>No</td>\n",
       "    </tr>\n",
       "    <tr>\n",
       "      <th>3</th>\n",
       "      <td>Sunny</td>\n",
       "      <td>Warm</td>\n",
       "      <td>High</td>\n",
       "      <td>Strong</td>\n",
       "      <td>Cool</td>\n",
       "      <td>Change</td>\n",
       "      <td>Yes</td>\n",
       "    </tr>\n",
       "  </tbody>\n",
       "</table>\n",
       "</div>"
      ],
      "text/plain": [
       "     Sky  Temp Humidity    Wind Water Forecast EnjoySport\n",
       "0  Sunny  Warm   Normal  Strong  Warm     Same        Yes\n",
       "1  Sunny  Warm     High  Strong  Warm     Same        Yes\n",
       "2  Rainy  Cold     High  Strong  Warm   Change         No\n",
       "3  Sunny  Warm     High  Strong  Cool   Change        Yes"
      ]
     },
     "execution_count": 4,
     "metadata": {},
     "output_type": "execute_result"
    }
   ],
   "source": [
    "d"
   ]
  },
  {
   "cell_type": "code",
   "execution_count": 5,
   "id": "99186479",
   "metadata": {},
   "outputs": [],
   "source": [
    "da = np.array(d)[::]"
   ]
  },
  {
   "cell_type": "code",
   "execution_count": 6,
   "id": "da4724ce",
   "metadata": {},
   "outputs": [
    {
     "data": {
      "text/plain": [
       "array([['Sunny', 'Warm', 'Normal', 'Strong', 'Warm', 'Same', 'Yes'],\n",
       "       ['Sunny', 'Warm', 'High', 'Strong', 'Warm', 'Same', 'Yes'],\n",
       "       ['Rainy', 'Cold', 'High', 'Strong', 'Warm', 'Change', 'No'],\n",
       "       ['Sunny', 'Warm', 'High', 'Strong', 'Cool', 'Change', 'Yes']],\n",
       "      dtype=object)"
      ]
     },
     "execution_count": 6,
     "metadata": {},
     "output_type": "execute_result"
    }
   ],
   "source": [
    "da"
   ]
  },
  {
   "cell_type": "code",
   "execution_count": 13,
   "id": "c9e65221",
   "metadata": {},
   "outputs": [
    {
     "data": {
      "text/plain": [
       "array(['Yes', 'Yes', 'No', 'Yes'], dtype=object)"
      ]
     },
     "execution_count": 13,
     "metadata": {},
     "output_type": "execute_result"
    }
   ],
   "source": [
    "attr = np.array(d)[:,-1]\n",
    "attr"
   ]
  },
  {
   "cell_type": "code",
   "execution_count": 14,
   "id": "1b7e4f87",
   "metadata": {},
   "outputs": [],
   "source": [
    "def train(d,at):\n",
    "    specific_h = d[0].copy()\n",
    "    general_h = [['?' for i in range(len(specific_h))]for j in range(len(specific_h))]\n",
    "    \n",
    "    for i, val in enumerate(d):\n",
    "        if at[i] == 'Yes':\n",
    "            for x in range(len(specific_h)):\n",
    "                if val[x] != specific_h[x]:\n",
    "                    specific_h[x] = '?'\n",
    "                    general_h[x][x] = '?'\n",
    "        if at[i]=='No':\n",
    "            for x in range(len(specific_h)): \n",
    "                if val[x]!= specific_h[x]:                    \n",
    "                    general_h[x][x] = specific_h[x]                              \n",
    "                else:                    \n",
    "                    general_h[x][x] = '?'\n",
    "                                       \n",
    "    ind = [i for i,val in enumerate(general_h) if val == ['?','?','?','?','?','?','?'] ]    \n",
    "    print(ind)\n",
    "    for i in general_h:\n",
    "        general_h.remove(['?','?','?','?','?','?','?'])\n",
    "    return specific_h,general_h        "
   ]
  },
  {
   "cell_type": "code",
   "execution_count": 15,
   "id": "8d0cb739",
   "metadata": {},
   "outputs": [
    {
     "name": "stdout",
     "output_type": "stream",
     "text": [
      "[2, 3, 4, 5]\n"
     ]
    },
    {
     "data": {
      "text/plain": [
       "array(['Sunny', 'Warm', '?', 'Strong', '?', '?', 'Yes'], dtype=object)"
      ]
     },
     "execution_count": 15,
     "metadata": {},
     "output_type": "execute_result"
    }
   ],
   "source": [
    "s_final, g_final = train(da, attr)\n",
    "s_final\n"
   ]
  },
  {
   "cell_type": "code",
   "execution_count": 16,
   "id": "c3c2e722",
   "metadata": {},
   "outputs": [
    {
     "data": {
      "text/plain": [
       "[['Sunny', '?', '?', '?', '?', '?', '?'],\n",
       " ['?', 'Warm', '?', '?', '?', '?', '?'],\n",
       " ['?', '?', '?', '?', '?', '?', 'Yes']]"
      ]
     },
     "execution_count": 16,
     "metadata": {},
     "output_type": "execute_result"
    }
   ],
   "source": [
    "g_final"
   ]
  },
  {
   "cell_type": "code",
   "execution_count": null,
   "id": "11555cde",
   "metadata": {},
   "outputs": [],
   "source": []
  }
 ],
 "metadata": {
  "kernelspec": {
   "display_name": "Python 3 (ipykernel)",
   "language": "python",
   "name": "python3"
  },
  "language_info": {
   "codemirror_mode": {
    "name": "ipython",
    "version": 3
   },
   "file_extension": ".py",
   "mimetype": "text/x-python",
   "name": "python",
   "nbconvert_exporter": "python",
   "pygments_lexer": "ipython3",
   "version": "3.10.6"
  }
 },
 "nbformat": 4,
 "nbformat_minor": 5
}
