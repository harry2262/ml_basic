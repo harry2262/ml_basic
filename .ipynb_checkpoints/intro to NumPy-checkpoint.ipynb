{
 "cells": [
  {
   "cell_type": "code",
   "execution_count": 1,
   "id": "36e33c6a",
   "metadata": {},
   "outputs": [],
   "source": [
    "import numpy as np"
   ]
  },
  {
   "cell_type": "markdown",
   "id": "dbf1c7dc",
   "metadata": {},
   "source": [
    "# DataTypes & Attributes"
   ]
  },
  {
   "cell_type": "code",
   "execution_count": 5,
   "id": "6f131932",
   "metadata": {},
   "outputs": [
    {
     "data": {
      "text/plain": [
       "array([1, 2, 3])"
      ]
     },
     "execution_count": 5,
     "metadata": {},
     "output_type": "execute_result"
    }
   ],
   "source": [
    "# Numpy's Main Datatypre is ND-Array\n",
    "a1 =  np.array([1,2,3])\n",
    "a1\n"
   ]
  },
  {
   "cell_type": "code",
   "execution_count": 6,
   "id": "50783565",
   "metadata": {},
   "outputs": [
    {
     "data": {
      "text/plain": [
       "numpy.ndarray"
      ]
     },
     "execution_count": 6,
     "metadata": {},
     "output_type": "execute_result"
    }
   ],
   "source": [
    "type(a1)"
   ]
  },
  {
   "cell_type": "code",
   "execution_count": 9,
   "id": "110c03c7",
   "metadata": {},
   "outputs": [
    {
     "data": {
      "text/plain": [
       "2"
      ]
     },
     "execution_count": 9,
     "metadata": {},
     "output_type": "execute_result"
    }
   ],
   "source": [
    "a2 = np.array([[1,2,3],[1,2,3]])\n",
    "a2"
   ]
  },
  {
   "cell_type": "code",
   "execution_count": 13,
   "id": "5d55afee",
   "metadata": {},
   "outputs": [
    {
     "data": {
      "text/plain": [
       "array([[[ 1,  2,  3],\n",
       "        [ 3,  4,  5],\n",
       "        [ 6,  7,  8]],\n",
       "\n",
       "       [[ 9, 10, 11],\n",
       "        [12, 13, 14],\n",
       "        [15, 16, 17]]])"
      ]
     },
     "execution_count": 13,
     "metadata": {},
     "output_type": "execute_result"
    }
   ],
   "source": [
    "a3 = np.array([[[1,2,3],[3,4,5],[6,7,8]],[[9,10,11],[12,13,14],[15,16,17]]])\n",
    "a3"
   ]
  },
  {
   "cell_type": "code",
   "execution_count": 15,
   "id": "2bd65f39",
   "metadata": {},
   "outputs": [
    {
     "data": {
      "text/plain": [
       "((2, 3, 3), (2, 3))"
      ]
     },
     "execution_count": 15,
     "metadata": {},
     "output_type": "execute_result"
    }
   ],
   "source": [
    "a3.shape, a2.shape"
   ]
  },
  {
   "cell_type": "code",
   "execution_count": 17,
   "id": "efb68841",
   "metadata": {},
   "outputs": [
    {
     "data": {
      "text/plain": [
       "(1, 2, 3)"
      ]
     },
     "execution_count": 17,
     "metadata": {},
     "output_type": "execute_result"
    }
   ],
   "source": [
    "a1.ndim,a2.ndim,a3.ndim"
   ]
  },
  {
   "cell_type": "markdown",
   "id": "d3617cfe",
   "metadata": {},
   "source": [
    "# Creating numpy array"
   ]
  },
  {
   "cell_type": "code",
   "execution_count": 19,
   "id": "60eae49e",
   "metadata": {},
   "outputs": [
    {
     "data": {
      "text/plain": [
       "array([1, 2, 3])"
      ]
     },
     "execution_count": 19,
     "metadata": {},
     "output_type": "execute_result"
    }
   ],
   "source": [
    "samole_array = np.array([1,2,3])\n",
    "samole_array"
   ]
  },
  {
   "cell_type": "code",
   "execution_count": 20,
   "id": "41fec560",
   "metadata": {},
   "outputs": [
    {
     "data": {
      "text/plain": [
       "array([[1., 1., 1.],\n",
       "       [1., 1., 1.]])"
      ]
     },
     "execution_count": 20,
     "metadata": {},
     "output_type": "execute_result"
    }
   ],
   "source": [
    "ones = np.ones((2,3))\n",
    "ones"
   ]
  },
  {
   "cell_type": "code",
   "execution_count": 22,
   "id": "f98d729f",
   "metadata": {},
   "outputs": [
    {
     "data": {
      "text/plain": [
       "dtype('float64')"
      ]
     },
     "execution_count": 22,
     "metadata": {},
     "output_type": "execute_result"
    }
   ],
   "source": [
    "ones.dtype"
   ]
  },
  {
   "cell_type": "code",
   "execution_count": 25,
   "id": "85be7433",
   "metadata": {},
   "outputs": [
    {
     "data": {
      "text/plain": [
       "array([[0., 0., 0.],\n",
       "       [0., 0., 0.]])"
      ]
     },
     "execution_count": 25,
     "metadata": {},
     "output_type": "execute_result"
    }
   ],
   "source": [
    "zeroes = np.zeros((2,3))\n",
    "zeroes"
   ]
  },
  {
   "cell_type": "code",
   "execution_count": 26,
   "id": "42a2415f",
   "metadata": {},
   "outputs": [
    {
     "data": {
      "text/plain": [
       "array([0, 2, 4, 6, 8])"
      ]
     },
     "execution_count": 26,
     "metadata": {},
     "output_type": "execute_result"
    }
   ],
   "source": [
    "range_array = np.arange(0,10,2)\n",
    "range_array"
   ]
  },
  {
   "cell_type": "code",
   "execution_count": 27,
   "id": "285f4624",
   "metadata": {},
   "outputs": [],
   "source": [
    "random_array = np.random.randint(0,10,size = (3,5))"
   ]
  },
  {
   "cell_type": "code",
   "execution_count": 28,
   "id": "334b4301",
   "metadata": {},
   "outputs": [
    {
     "data": {
      "text/plain": [
       "array([[3, 9, 7, 9, 4],\n",
       "       [7, 8, 6, 4, 5],\n",
       "       [9, 0, 3, 6, 2]])"
      ]
     },
     "execution_count": 28,
     "metadata": {},
     "output_type": "execute_result"
    }
   ],
   "source": [
    "random_array"
   ]
  },
  {
   "cell_type": "markdown",
   "id": "b7e6c69d",
   "metadata": {},
   "source": [
    "# numpy random seed"
   ]
  },
  {
   "cell_type": "code",
   "execution_count": 35,
   "id": "9bdbef80",
   "metadata": {},
   "outputs": [
    {
     "data": {
      "text/plain": [
       "array([[0.07630829, 0.77991879],\n",
       "       [0.43840923, 0.72346518],\n",
       "       [0.97798951, 0.53849587]])"
      ]
     },
     "execution_count": 35,
     "metadata": {},
     "output_type": "execute_result"
    }
   ],
   "source": [
    "#  Pseudo-random numbers\n",
    "np.random.seed(7)\n",
    "random_array_2 = np.random.rand(3,2)\n",
    "random_array_2"
   ]
  },
  {
   "cell_type": "markdown",
   "id": "4abdec33",
   "metadata": {},
   "source": [
    "# Viewing arrays and Matrices"
   ]
  },
  {
   "cell_type": "code",
   "execution_count": 36,
   "id": "d5c23ab6",
   "metadata": {},
   "outputs": [
    {
     "data": {
      "text/plain": [
       "array([[[[ 8, 14, 10,  8],\n",
       "         [ 7,  6,  4, 16],\n",
       "         [ 7, 12,  0, 11]],\n",
       "\n",
       "        [[ 6, 19, 12,  5],\n",
       "         [16,  0,  2,  9],\n",
       "         [14,  6,  4, 14]],\n",
       "\n",
       "        [[ 9,  3,  3,  8],\n",
       "         [19, 16,  1,  0],\n",
       "         [16, 12,  7, 10]],\n",
       "\n",
       "        [[ 9,  3,  0,  7],\n",
       "         [ 0,  4,  3,  1],\n",
       "         [ 3,  1, 19,  4]],\n",
       "\n",
       "        [[19,  1,  5,  9],\n",
       "         [17,  2, 19, 18],\n",
       "         [18,  3, 11, 15]]],\n",
       "\n",
       "\n",
       "       [[[16, 12, 11,  9],\n",
       "         [ 9, 12,  3, 14],\n",
       "         [14, 15,  3, 16]],\n",
       "\n",
       "        [[ 4, 11,  8, 11],\n",
       "         [15, 13, 18,  7],\n",
       "         [ 3, 12, 12, 15]],\n",
       "\n",
       "        [[ 8,  6,  6, 12],\n",
       "         [ 7, 17, 10, 15],\n",
       "         [ 5,  4,  9,  9]],\n",
       "\n",
       "        [[ 0,  2, 12,  6],\n",
       "         [ 8,  2, 10, 14],\n",
       "         [17,  6, 10, 17]],\n",
       "\n",
       "        [[ 5, 15, 17, 12],\n",
       "         [ 9,  8, 15,  5],\n",
       "         [ 9,  4, 12,  9]]]])"
      ]
     },
     "execution_count": 36,
     "metadata": {},
     "output_type": "execute_result"
    }
   ],
   "source": [
    "rr =np.random.randint(0,20,size = (2,5,3,4))\n",
    "rr"
   ]
  },
  {
   "cell_type": "code",
   "execution_count": 37,
   "id": "0d32b405",
   "metadata": {},
   "outputs": [
    {
     "data": {
      "text/plain": [
       "array([ 5, 15, 17, 12])"
      ]
     },
     "execution_count": 37,
     "metadata": {},
     "output_type": "execute_result"
    }
   ],
   "source": [
    "rr[1,4,0,:]"
   ]
  },
  {
   "cell_type": "markdown",
   "id": "24d9663e",
   "metadata": {},
   "source": [
    "#  4. Manipulating and compring arrays"
   ]
  },
  {
   "cell_type": "code",
   "execution_count": null,
   "id": "c1f6b25c",
   "metadata": {},
   "outputs": [],
   "source": []
  }
 ],
 "metadata": {
  "kernelspec": {
   "display_name": "Python 3 (ipykernel)",
   "language": "python",
   "name": "python3"
  },
  "language_info": {
   "codemirror_mode": {
    "name": "ipython",
    "version": 3
   },
   "file_extension": ".py",
   "mimetype": "text/x-python",
   "name": "python",
   "nbconvert_exporter": "python",
   "pygments_lexer": "ipython3",
   "version": "3.10.6"
  }
 },
 "nbformat": 4,
 "nbformat_minor": 5
}
