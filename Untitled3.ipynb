{
 "cells": [
  {
   "cell_type": "code",
   "execution_count": 1,
   "id": "b5c021db",
   "metadata": {},
   "outputs": [],
   "source": [
    "import numpy as np\n",
    "import pandas as pd"
   ]
  },
  {
   "cell_type": "code",
   "execution_count": null,
   "id": "f40cb0cf",
   "metadata": {},
   "outputs": [],
   "source": [
    "d = pd.read_csv(\"data.csv\")"
   ]
  },
  {
   "cell_type": "code",
   "execution_count": null,
   "id": "6d57ba7d",
   "metadata": {},
   "outputs": [],
   "source": [
    "da = np.array(d)[::]"
   ]
  },
  {
   "cell_type": "code",
   "execution_count": null,
   "id": "c27e0c34",
   "metadata": {},
   "outputs": [],
   "source": [
    "attr = np.array(d)[:,-1]\n",
    "attr"
   ]
  }
 ],
 "metadata": {
  "kernelspec": {
   "display_name": "Python 3 (ipykernel)",
   "language": "python",
   "name": "python3"
  },
  "language_info": {
   "codemirror_mode": {
    "name": "ipython",
    "version": 3
   },
   "file_extension": ".py",
   "mimetype": "text/x-python",
   "name": "python",
   "nbconvert_exporter": "python",
   "pygments_lexer": "ipython3",
   "version": "3.10.6"
  }
 },
 "nbformat": 4,
 "nbformat_minor": 5
}
